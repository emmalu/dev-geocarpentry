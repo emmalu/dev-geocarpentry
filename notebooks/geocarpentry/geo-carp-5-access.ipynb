{
 "cells": [
  {
   "cell_type": "code",
   "execution_count": 1,
   "id": "c3c22ccc-5e88-4b30-8981-a73c46b0a459",
   "metadata": {},
   "outputs": [],
   "source": [
    "from pystac_client import Client\n",
    "from shapely.geometry import Point\n",
    "import rioxarray"
   ]
  },
  {
   "cell_type": "code",
   "execution_count": 2,
   "id": "f16470c5-fa99-4021-8367-893f28540f03",
   "metadata": {},
   "outputs": [
    {
     "name": "stdout",
     "output_type": "stream",
     "text": [
      "5\n"
     ]
    }
   ],
   "source": [
    "api_url = \"https://cmr.earthdata.nasa.gov/stac/LPCLOUD\"\n",
    "client = Client.open(api_url)\n",
    "\n",
    "point_location = Point(-73.97, 40.78)\n",
    "\n",
    "collection = \"HLSL30.v2.0\"\n",
    "search = client.search(\n",
    "    collections=[collection],\n",
    "    intersects=point_location,\n",
    "    datetime=\"2021-02-01/2021-03-30\",\n",
    ")\n",
    "# print(search.matched())\n",
    "items = search.item_collection()\n",
    "print(len(items))"
   ]
  },
  {
   "cell_type": "code",
   "execution_count": 3,
   "id": "f8c691a8-52d3-4ab2-ab0b-0c5c9ea5d25f",
   "metadata": {},
   "outputs": [
    {
     "name": "stdout",
     "output_type": "stream",
     "text": [
      "{'eo:cloud_cover': 6, 'datetime': '2021-02-08T15:33:24.028Z', 'start_datetime': '2021-02-08T15:33:24.028Z', 'end_datetime': '2021-02-08T15:33:47.911Z'}\n",
      "dict_keys(['B05', 'B06', 'B01', 'B11', 'B03', 'Fmask', 'B04', 'VAA', 'B09', 'VZA', 'B02', 'SAA', 'SZA', 'B07', 'B10', 'browse', 'metadata'])\n"
     ]
    }
   ],
   "source": [
    "item1 = items[0]\n",
    "print(item1.properties)\n",
    "print(item1.assets.keys())"
   ]
  },
  {
   "cell_type": "code",
   "execution_count": 4,
   "id": "12bdbd65-f0bf-43ff-af18-fd93ac21bfe2",
   "metadata": {},
   "outputs": [
    {
     "name": "stdout",
     "output_type": "stream",
     "text": [
      "https://data.lpdaac.earthdatacloud.nasa.gov/lp-prod-public/HLSL30.020/HLS.L30.T18TWL.2021039T153324.v2.0/HLS.L30.T18TWL.2021039T153324.v2.0.jpg\n"
     ]
    }
   ],
   "source": [
    "items_sorted = sorted(items, key=lambda x: x.properties[\"eo:cloud_cover\"]) # sorting and then selecting by cloud cover\n",
    "item = items_sorted[0]\n",
    "print(item.assets[\"browse\"].href)"
   ]
  },
  {
   "cell_type": "code",
   "execution_count": 5,
   "id": "a1ee7315-170f-47fa-a028-9511056e9efd",
   "metadata": {},
   "outputs": [],
   "source": [
    "import geopandas"
   ]
  },
  {
   "cell_type": "code",
   "execution_count": null,
   "id": "92181dc7-d20c-442b-aba6-a3d2c1412bfb",
   "metadata": {},
   "outputs": [],
   "source": []
  }
 ],
 "metadata": {
  "kernelspec": {
   "display_name": "Python 3 (ipykernel)",
   "language": "python",
   "name": "python3"
  },
  "language_info": {
   "codemirror_mode": {
    "name": "ipython",
    "version": 3
   },
   "file_extension": ".py",
   "mimetype": "text/x-python",
   "name": "python",
   "nbconvert_exporter": "python",
   "pygments_lexer": "ipython3",
   "version": "3.10.13"
  }
 },
 "nbformat": 4,
 "nbformat_minor": 5
}
